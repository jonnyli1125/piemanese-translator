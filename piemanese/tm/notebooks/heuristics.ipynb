{
 "cells": [
  {
   "cell_type": "markdown",
   "id": "92bdbfe2",
   "metadata": {},
   "source": [
    "# Piemanese TM Experiment: Heuristics\n",
    "## Overview\n",
    "This is an experiment for finding heuristics for detecting Piemanese word pairs. This can help TM be more efficient by eliminating words that are obviously not possible translations."
   ]
  },
  {
   "cell_type": "code",
   "execution_count": 1,
   "id": "9a20a9ae",
   "metadata": {},
   "outputs": [
    {
     "data": {
      "text/html": [
       "<div>\n",
       "<style scoped>\n",
       "    .dataframe tbody tr th:only-of-type {\n",
       "        vertical-align: middle;\n",
       "    }\n",
       "\n",
       "    .dataframe tbody tr th {\n",
       "        vertical-align: top;\n",
       "    }\n",
       "\n",
       "    .dataframe thead th {\n",
       "        text-align: right;\n",
       "    }\n",
       "</style>\n",
       "<table border=\"1\" class=\"dataframe\">\n",
       "  <thead>\n",
       "    <tr style=\"text-align: right;\">\n",
       "      <th></th>\n",
       "      <th>pi_word</th>\n",
       "      <th>en_word</th>\n",
       "      <th>is_pair</th>\n",
       "    </tr>\n",
       "  </thead>\n",
       "  <tbody>\n",
       "    <tr>\n",
       "      <th>0</th>\n",
       "      <td>neda</td>\n",
       "      <td>need to</td>\n",
       "      <td>1</td>\n",
       "    </tr>\n",
       "    <tr>\n",
       "      <th>1</th>\n",
       "      <td>deliva</td>\n",
       "      <td>deliver</td>\n",
       "      <td>1</td>\n",
       "    </tr>\n",
       "    <tr>\n",
       "      <th>2</th>\n",
       "      <td>foods</td>\n",
       "      <td>food</td>\n",
       "      <td>1</td>\n",
       "    </tr>\n",
       "    <tr>\n",
       "      <th>3</th>\n",
       "      <td>at</td>\n",
       "      <td>at</td>\n",
       "      <td>1</td>\n",
       "    </tr>\n",
       "    <tr>\n",
       "      <th>4</th>\n",
       "      <td>yezzirr</td>\n",
       "      <td>yessir</td>\n",
       "      <td>1</td>\n",
       "    </tr>\n",
       "    <tr>\n",
       "      <th>...</th>\n",
       "      <td>...</td>\n",
       "      <td>...</td>\n",
       "      <td>...</td>\n",
       "    </tr>\n",
       "    <tr>\n",
       "      <th>9156243</th>\n",
       "      <td>his</td>\n",
       "      <td>hi</td>\n",
       "      <td>0</td>\n",
       "    </tr>\n",
       "    <tr>\n",
       "      <th>9156244</th>\n",
       "      <td>his</td>\n",
       "      <td>chris</td>\n",
       "      <td>0</td>\n",
       "    </tr>\n",
       "    <tr>\n",
       "      <th>9156245</th>\n",
       "      <td>his</td>\n",
       "      <td>hints</td>\n",
       "      <td>0</td>\n",
       "    </tr>\n",
       "    <tr>\n",
       "      <th>9156246</th>\n",
       "      <td>his</td>\n",
       "      <td>hives</td>\n",
       "      <td>0</td>\n",
       "    </tr>\n",
       "    <tr>\n",
       "      <th>9156247</th>\n",
       "      <td>his</td>\n",
       "      <td>whips</td>\n",
       "      <td>0</td>\n",
       "    </tr>\n",
       "  </tbody>\n",
       "</table>\n",
       "<p>9156248 rows × 3 columns</p>\n",
       "</div>"
      ],
      "text/plain": [
       "         pi_word  en_word  is_pair\n",
       "0           neda  need to        1\n",
       "1         deliva  deliver        1\n",
       "2          foods     food        1\n",
       "3             at       at        1\n",
       "4        yezzirr   yessir        1\n",
       "...          ...      ...      ...\n",
       "9156243      his       hi        0\n",
       "9156244      his    chris        0\n",
       "9156245      his    hints        0\n",
       "9156246      his    hives        0\n",
       "9156247      his    whips        0\n",
       "\n",
       "[9156248 rows x 3 columns]"
      ]
     },
     "execution_count": 1,
     "metadata": {},
     "output_type": "execute_result"
    }
   ],
   "source": [
    "import pandas as pd\n",
    "import glob\n",
    "\n",
    "def load_dataset(word_pairs_dir):\n",
    "    rows = []\n",
    "    for dirname, label in [('true', 1), ('false', 0)]:\n",
    "        for filename in glob.glob(f'{word_pairs_dir}/{dirname}/*'):\n",
    "            with open(filename, 'r', encoding='utf-8') as f:\n",
    "                for line in f:\n",
    "                    pi_word, en_word = line.strip().split('\\t')\n",
    "                    rows.append([pi_word, en_word, label])\n",
    "    return pd.DataFrame(rows, columns=['pi_word', 'en_word', 'is_pair'])\n",
    "\n",
    "word_pairs = load_dataset('../datasets/word_pairs')  # local path\n",
    "word_pairs"
   ]
  },
  {
   "cell_type": "markdown",
   "id": "afdf6ead",
   "metadata": {},
   "source": [
    "## Levenshtein Ratio"
   ]
  },
  {
   "cell_type": "code",
   "execution_count": 2,
   "id": "b2a3305d",
   "metadata": {},
   "outputs": [
    {
     "data": {
      "text/plain": [
       "<AxesSubplot:xlabel='lev_ratio', ylabel='is_pair'>"
      ]
     },
     "execution_count": 2,
     "metadata": {},
     "output_type": "execute_result"
    },
    {
     "data": {
      "image/png": "[encoded data removed]",
      "text/plain": [
       "<Figure size 640x480 with 1 Axes>"
      ]
     },
     "metadata": {},
     "output_type": "display_data"
    }
   ],
   "source": [
    "import Levenshtein\n",
    "\n",
    "word_pairs['lev_ratio'] = word_pairs.apply(lambda row: Levenshtein.ratio(row['pi_word'], row['en_word']), axis=1)\n",
    "word_pairs.plot(x='lev_ratio', y='is_pair', kind='scatter')"
   ]
  },
  {
   "cell_type": "code",
   "execution_count": 4,
   "id": "83f9467a",
   "metadata": {},
   "outputs": [
    {
     "data": {
      "text/plain": [
       "<AxesSubplot:xlabel='lev_ratio_cons', ylabel='is_pair'>"
      ]
     },
     "execution_count": 4,
     "metadata": {},
     "output_type": "execute_result"
    },
    {
     "data": {
      "image/png": "[encoded data removed]",
      "text/plain": [
       "<Figure size 640x480 with 1 Axes>"
      ]
     },
     "metadata": {},
     "output_type": "display_data"
    }
   ],
   "source": [
    "import re\n",
    "\n",
    "def cons_only(word):\n",
    "    return re.sub(r'[aiueo]', '', word)\n",
    "\n",
    "word_pairs['lev_ratio_cons'] = word_pairs.apply(\n",
    "    lambda row: Levenshtein.ratio(cons_only(row['pi_word']), cons_only(row['en_word'])), axis=1)\n",
    "word_pairs.plot(x='lev_ratio_cons', y='is_pair', kind='scatter')"
   ]
  },
  {
   "cell_type": "code",
   "execution_count": null,
   "id": "cede1173",
   "metadata": {},
   "outputs": [],
   "source": []
  }
 ],
 "metadata": {
  "kernelspec": {
   "display_name": "Python 3 (ipykernel)",
   "language": "python",
   "name": "python3"
  },
  "language_info": {
   "codemirror_mode": {
    "name": "ipython",
    "version": 3
   },
   "file_extension": ".py",
   "mimetype": "text/x-python",
   "name": "python",
   "nbconvert_exporter": "python",
   "pygments_lexer": "ipython3",
   "version": "3.10.2"
  }
 },
 "nbformat": 4,
 "nbformat_minor": 5
}
