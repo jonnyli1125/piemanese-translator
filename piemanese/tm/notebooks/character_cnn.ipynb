{
  "cells": [
    {
      "cell_type": "markdown",
      "metadata": {
        "id": "view-in-github",
        "colab_type": "text"
      },
      "source": [
        "<a href=\"https://colab.research.google.com/github/jonnyli1125/piemanese-translator/blob/main/piemanese/tm/notebooks/character_cnn.ipynb\" target=\"_parent\"><img src=\"https://colab.research.google.com/assets/colab-badge.svg\" alt=\"Open In Colab\"/></a>"
      ]
    },
    {
      "cell_type": "markdown",
      "metadata": {
        "id": "dce26530"
      },
      "source": [
        "# Piemanese TM Experiment: Character CNN\n",
        "## Overview\n",
        "\n",
        "This is an experiment for Piemanese TM using a character-level convolutional neural network.\n",
        "\n",
        "We define this as a binary classification problem. We give two inputs to the model (Piemanese word, English word), and the model classifies it as either a true pair or false pair.\n",
        "\n",
        "In the original use case, Character-level CNNs were robust against the noisy user data that contained many misspellings, which is a key requirement for a Piemanese TM.\n",
        "\n",
        "## References\n",
        "- https://arxiv.org/pdf/1509.01626.pdf\n",
        "- https://github.com/ahmedbesbes/character-based-cnn\n",
        "- https://www.youtube.com/watch?v=CNY8VjJt-iQ\n",
        "- https://towardsdatascience.com/character-level-cnn-with-keras-50391c3adf33"
      ],
      "id": "dce26530"
    },
    {
      "cell_type": "markdown",
      "metadata": {
        "id": "42d7d6c4"
      },
      "source": [
        "## Data Preprocessing"
      ],
      "id": "42d7d6c4"
    },
    {
      "cell_type": "code",
      "execution_count": 1,
      "metadata": {
        "id": "a12668bd"
      },
      "outputs": [],
      "source": [
        "import numpy as np\n",
        "import pandas as pd\n",
        "import tensorflow as tf\n",
        "from sklearn.model_selection import train_test_split"
      ],
      "id": "a12668bd"
    },
    {
      "cell_type": "code",
      "execution_count": 16,
      "metadata": {
        "colab": {
          "base_uri": "https://localhost:8080/",
          "height": 424
        },
        "id": "2e753670",
        "outputId": "44527a76-b792-4e73-b8ad-14aa84958a82",
        "scrolled": true
      },
      "outputs": [
        {
          "output_type": "execute_result",
          "data": {
            "text/plain": [
              "        pi_word en_word  is_pair\n",
              "0           are     are        1\n",
              "1         could   could        1\n",
              "2        though  though        1\n",
              "3             a       a        1\n",
              "4            ya      ya        1\n",
              "...         ...     ...      ...\n",
              "2095037     yus    leaf        0\n",
              "2095038     yus     tdf        0\n",
              "2095039     yus     you        0\n",
              "2095040     yus      do        0\n",
              "2095041     yus    shit        0\n",
              "\n",
              "[2095042 rows x 3 columns]"
            ],
            "text/html": [
              "\n",
              "  <div id=\"df-b803281c-b038-459d-8a28-b61d6e0757c3\">\n",
              "    <div class=\"colab-df-container\">\n",
              "      <div>\n",
              "<style scoped>\n",
              "    .dataframe tbody tr th:only-of-type {\n",
              "        vertical-align: middle;\n",
              "    }\n",
              "\n",
              "    .dataframe tbody tr th {\n",
              "        vertical-align: top;\n",
              "    }\n",
              "\n",
              "    .dataframe thead th {\n",
              "        text-align: right;\n",
              "    }\n",
              "</style>\n",
              "<table border=\"1\" class=\"dataframe\">\n",
              "  <thead>\n",
              "    <tr style=\"text-align: right;\">\n",
              "      <th></th>\n",
              "      <th>pi_word</th>\n",
              "      <th>en_word</th>\n",
              "      <th>is_pair</th>\n",
              "    </tr>\n",
              "  </thead>\n",
              "  <tbody>\n",
              "    <tr>\n",
              "      <th>0</th>\n",
              "      <td>are</td>\n",
              "      <td>are</td>\n",
              "      <td>1</td>\n",
              "    </tr>\n",
              "    <tr>\n",
              "      <th>1</th>\n",
              "      <td>could</td>\n",
              "      <td>could</td>\n",
              "      <td>1</td>\n",
              "    </tr>\n",
              "    <tr>\n",
              "      <th>2</th>\n",
              "      <td>though</td>\n",
              "      <td>though</td>\n",
              "      <td>1</td>\n",
              "    </tr>\n",
              "    <tr>\n",
              "      <th>3</th>\n",
              "      <td>a</td>\n",
              "      <td>a</td>\n",
              "      <td>1</td>\n",
              "    </tr>\n",
              "    <tr>\n",
              "      <th>4</th>\n",
              "      <td>ya</td>\n",
              "      <td>ya</td>\n",
              "      <td>1</td>\n",
              "    </tr>\n",
              "    <tr>\n",
              "      <th>...</th>\n",
              "      <td>...</td>\n",
              "      <td>...</td>\n",
              "      <td>...</td>\n",
              "    </tr>\n",
              "    <tr>\n",
              "      <th>2095037</th>\n",
              "      <td>yus</td>\n",
              "      <td>leaf</td>\n",
              "      <td>0</td>\n",
              "    </tr>\n",
              "    <tr>\n",
              "      <th>2095038</th>\n",
              "      <td>yus</td>\n",
              "      <td>tdf</td>\n",
              "      <td>0</td>\n",
              "    </tr>\n",
              "    <tr>\n",
              "      <th>2095039</th>\n",
              "      <td>yus</td>\n",
              "      <td>you</td>\n",
              "      <td>0</td>\n",
              "    </tr>\n",
              "    <tr>\n",
              "      <th>2095040</th>\n",
              "      <td>yus</td>\n",
              "      <td>do</td>\n",
              "      <td>0</td>\n",
              "    </tr>\n",
              "    <tr>\n",
              "      <th>2095041</th>\n",
              "      <td>yus</td>\n",
              "      <td>shit</td>\n",
              "      <td>0</td>\n",
              "    </tr>\n",
              "  </tbody>\n",
              "</table>\n",
              "<p>2095042 rows × 3 columns</p>\n",
              "</div>\n",
              "      <button class=\"colab-df-convert\" onclick=\"convertToInteractive('df-b803281c-b038-459d-8a28-b61d6e0757c3')\"\n",
              "              title=\"Convert this dataframe to an interactive table.\"\n",
              "              style=\"display:none;\">\n",
              "        \n",
              "  <svg xmlns=\"http://www.w3.org/2000/svg\" height=\"24px\"viewBox=\"0 0 24 24\"\n",
              "       width=\"24px\">\n",
              "    <path d=\"M0 0h24v24H0V0z\" fill=\"none\"/>\n",
              "    <path d=\"M18.56 5.44l.94 2.06.94-2.06 2.06-.94-2.06-.94-.94-2.06-.94 2.06-2.06.94zm-11 1L8.5 8.5l.94-2.06 2.06-.94-2.06-.94L8.5 2.5l-.94 2.06-2.06.94zm10 10l.94 2.06.94-2.06 2.06-.94-2.06-.94-.94-2.06-.94 2.06-2.06.94z\"/><path d=\"M17.41 7.96l-1.37-1.37c-.4-.4-.92-.59-1.43-.59-.52 0-1.04.2-1.43.59L10.3 9.45l-7.72 7.72c-.78.78-.78 2.05 0 2.83L4 21.41c.39.39.9.59 1.41.59.51 0 1.02-.2 1.41-.59l7.78-7.78 2.81-2.81c.8-.78.8-2.07 0-2.86zM5.41 20L4 18.59l7.72-7.72 1.47 1.35L5.41 20z\"/>\n",
              "  </svg>\n",
              "      </button>\n",
              "      \n",
              "  <style>\n",
              "    .colab-df-container {\n",
              "      display:flex;\n",
              "      flex-wrap:wrap;\n",
              "      gap: 12px;\n",
              "    }\n",
              "\n",
              "    .colab-df-convert {\n",
              "      background-color: #E8F0FE;\n",
              "      border: none;\n",
              "      border-radius: 50%;\n",
              "      cursor: pointer;\n",
              "      display: none;\n",
              "      fill: #1967D2;\n",
              "      height: 32px;\n",
              "      padding: 0 0 0 0;\n",
              "      width: 32px;\n",
              "    }\n",
              "\n",
              "    .colab-df-convert:hover {\n",
              "      background-color: #E2EBFA;\n",
              "      box-shadow: 0px 1px 2px rgba(60, 64, 67, 0.3), 0px 1px 3px 1px rgba(60, 64, 67, 0.15);\n",
              "      fill: #174EA6;\n",
              "    }\n",
              "\n",
              "    [theme=dark] .colab-df-convert {\n",
              "      background-color: #3B4455;\n",
              "      fill: #D2E3FC;\n",
              "    }\n",
              "\n",
              "    [theme=dark] .colab-df-convert:hover {\n",
              "      background-color: #434B5C;\n",
              "      box-shadow: 0px 1px 3px 1px rgba(0, 0, 0, 0.15);\n",
              "      filter: drop-shadow(0px 1px 2px rgba(0, 0, 0, 0.3));\n",
              "      fill: #FFFFFF;\n",
              "    }\n",
              "  </style>\n",
              "\n",
              "      <script>\n",
              "        const buttonEl =\n",
              "          document.querySelector('#df-b803281c-b038-459d-8a28-b61d6e0757c3 button.colab-df-convert');\n",
              "        buttonEl.style.display =\n",
              "          google.colab.kernel.accessAllowed ? 'block' : 'none';\n",
              "\n",
              "        async function convertToInteractive(key) {\n",
              "          const element = document.querySelector('#df-b803281c-b038-459d-8a28-b61d6e0757c3');\n",
              "          const dataTable =\n",
              "            await google.colab.kernel.invokeFunction('convertToInteractive',\n",
              "                                                     [key], {});\n",
              "          if (!dataTable) return;\n",
              "\n",
              "          const docLinkHtml = 'Like what you see? Visit the ' +\n",
              "            '<a target=\"_blank\" href=https://colab.research.google.com/notebooks/data_table.ipynb>data table notebook</a>'\n",
              "            + ' to learn more about interactive tables.';\n",
              "          element.innerHTML = '';\n",
              "          dataTable['output_type'] = 'display_data';\n",
              "          await google.colab.output.renderOutput(dataTable, element);\n",
              "          const docLink = document.createElement('div');\n",
              "          docLink.innerHTML = docLinkHtml;\n",
              "          element.appendChild(docLink);\n",
              "        }\n",
              "      </script>\n",
              "    </div>\n",
              "  </div>\n",
              "  "
            ]
          },
          "metadata": {},
          "execution_count": 16
        }
      ],
      "source": [
        "import glob\n",
        "import os.path\n",
        "\n",
        "def load_dataset(word_pairs_dir, file_weight={}):\n",
        "    rows = []\n",
        "    for dirname, label in [('true', 1), ('false', 0)]:\n",
        "        for filename in glob.glob(f'{word_pairs_dir}/{dirname}/*'):\n",
        "            with open(filename, 'r', encoding='utf-8') as f:\n",
        "                for line in f:\n",
        "                    pi_word, en_word = line.strip().split('\\t')\n",
        "                    n_repeats = file_weight.get(os.path.basename(filename), 1)\n",
        "                    for i in range(n_repeats):\n",
        "                        rows.append([pi_word, en_word, label])\n",
        "    return pd.DataFrame(rows, columns=['pi_word', 'en_word', 'is_pair'])\n",
        "\n",
        "word_pairs = load_dataset(\n",
        "    'word_pairs',  # colab path\n",
        "    file_weight={\n",
        "        'benchmark.tsv': 25,\n",
        "        'replacements.tsv': 25,\n",
        "        'upweight.tsv': 50\n",
        "    }\n",
        ")\n",
        "word_pairs"
      ],
      "id": "2e753670"
    },
    {
      "cell_type": "code",
      "execution_count": 3,
      "metadata": {
        "colab": {
          "base_uri": "https://localhost:8080/"
        },
        "id": "f4603a5c",
        "outputId": "8d0b5d1d-57c0-4e44-8e4e-ba5e1dfd71e0"
      },
      "outputs": [
        {
          "output_type": "execute_result",
          "data": {
            "text/plain": [
              "1582100      steel\n",
              "1962911       nott\n",
              "2055086       utub\n",
              "1739595       leze\n",
              "419197       games\n",
              "            ...   \n",
              "259178     control\n",
              "1414414      swerr\n",
              "131932          no\n",
              "671155         the\n",
              "121958     friends\n",
              "Name: pi_word, Length: 1466529, dtype: object"
            ]
          },
          "metadata": {},
          "execution_count": 3
        }
      ],
      "source": [
        "X_pi, X_en, y = word_pairs['pi_word'], word_pairs['en_word'], word_pairs['is_pair']\n",
        "\n",
        "# train/valid/test split: 70/15/15\n",
        "X_pi_train, X_pi_test, X_en_train, X_en_test, y_train, y_test = train_test_split(X_pi, X_en, y, test_size=0.3, random_state=42)\n",
        "X_pi_valid, X_pi_test, X_en_valid, X_en_test, y_valid, y_test = train_test_split(X_pi_test, X_en_test, y_test, test_size=0.5, random_state=42)\n",
        "X_pi_train"
      ],
      "id": "f4603a5c"
    },
    {
      "cell_type": "markdown",
      "metadata": {
        "id": "a80c0c45"
      },
      "source": [
        "## Model Architecture"
      ],
      "id": "a80c0c45"
    },
    {
      "cell_type": "code",
      "execution_count": 4,
      "metadata": {
        "id": "Q8XSVkaPA9Mm"
      },
      "outputs": [],
      "source": [
        "from tensorflow.keras.initializers import Constant\n",
        "from tensorflow.keras.metrics import Precision, Recall\n",
        "from tensorflow.keras.callbacks import ModelCheckpoint, EarlyStopping\n",
        "from tensorflow.keras.layers import TextVectorization, Embedding, Concatenate, Flatten, Dense, Conv1D, MaxPool1D\n",
        "from tensorflow.keras import Input, Model"
      ],
      "id": "Q8XSVkaPA9Mm"
    },
    {
      "cell_type": "code",
      "execution_count": 5,
      "metadata": {
        "colab": {
          "base_uri": "https://localhost:8080/"
        },
        "id": "0enpeYLU-FC2",
        "outputId": "6798b5bd-8ad7-40f3-a34f-e13d6edd75bd"
      },
      "outputs": [
        {
          "output_type": "execute_result",
          "data": {
            "text/plain": [
              "20"
            ]
          },
          "metadata": {},
          "execution_count": 5
        }
      ],
      "source": [
        "# sequence length\n",
        "seq_len = int(np.ceil(max(max(len(w) for w in word_pairs['pi_word']), max(len(w) for w in word_pairs['en_word'])) / 2) * 2)\n",
        "seq_len"
      ],
      "id": "0enpeYLU-FC2"
    },
    {
      "cell_type": "code",
      "execution_count": 6,
      "metadata": {
        "colab": {
          "base_uri": "https://localhost:8080/"
        },
        "id": "91eeb486",
        "outputId": "f52e468a-4c50-4b64-ff05-3993daa05dbd"
      },
      "outputs": [
        {
          "output_type": "stream",
          "name": "stdout",
          "text": [
            "Model: \"piemanese_tm_cnn\"\n",
            "__________________________________________________________________________________________________\n",
            " Layer (type)                   Output Shape         Param #     Connected to                     \n",
            "==================================================================================================\n",
            " pi_input (InputLayer)          [(None, 1)]          0           []                               \n",
            "                                                                                                  \n",
            " en_input (InputLayer)          [(None, 1)]          0           []                               \n",
            "                                                                                                  \n",
            " text_vectorization (TextVector  (None, 20)          0           ['pi_input[0][0]',               \n",
            " ization)                                                         'en_input[0][0]']               \n",
            "                                                                                                  \n",
            " embedding (Embedding)          (None, 20, 38)       1520        ['text_vectorization[0][0]',     \n",
            "                                                                  'text_vectorization[1][0]']     \n",
            "                                                                                                  \n",
            " concatenate (Concatenate)      (None, 20, 76)       0           ['embedding[0][0]',              \n",
            "                                                                  'embedding[1][0]']              \n",
            "                                                                                                  \n",
            " conv1d (Conv1D)                (None, 18, 32)       7328        ['concatenate[0][0]']            \n",
            "                                                                                                  \n",
            " conv1d_1 (Conv1D)              (None, 16, 32)       3104        ['conv1d[0][0]']                 \n",
            "                                                                                                  \n",
            " conv1d_2 (Conv1D)              (None, 14, 32)       3104        ['conv1d_1[0][0]']               \n",
            "                                                                                                  \n",
            " max_pooling1d (MaxPooling1D)   (None, 4, 32)        0           ['conv1d_2[0][0]']               \n",
            "                                                                                                  \n",
            " flatten (Flatten)              (None, 128)          0           ['max_pooling1d[0][0]']          \n",
            "                                                                                                  \n",
            " dense (Dense)                  (None, 1)            129         ['flatten[0][0]']                \n",
            "                                                                                                  \n",
            "==================================================================================================\n",
            "Total params: 15,185\n",
            "Trainable params: 13,665\n",
            "Non-trainable params: 1,520\n",
            "__________________________________________________________________________________________________\n"
          ]
        }
      ],
      "source": [
        "# construct keras model\n",
        "pi_input = Input(shape=(1,), name='pi_input', dtype=tf.string)\n",
        "en_input = Input(shape=(1,), name='en_input', dtype=tf.string)\n",
        "\n",
        "# tokenizer\n",
        "chars = list(\"abcdefghijklmnopqrstuvwxyz0123456789' \")\n",
        "tokenizer = TextVectorization(standardize='lower', split='character', output_sequence_length=seq_len, vocabulary=chars)\n",
        "pi_tokens = tokenizer(pi_input)\n",
        "en_tokens = tokenizer(en_input)\n",
        "\n",
        "# embedding layer\n",
        "V = tokenizer.vocabulary_size() - 2\n",
        "embedding_weights = np.concatenate([np.zeros((2, V)), np.diag(np.ones(V))], axis=0)\n",
        "embedding = Embedding(*embedding_weights.shape, input_length=seq_len, trainable=False, embeddings_initializer=Constant(embedding_weights))\n",
        "pi_embedding = embedding(pi_tokens)  # (B, S, V)\n",
        "en_embedding = embedding(en_tokens)\n",
        "x = Concatenate()([pi_embedding, en_embedding])  # (B, S, 2V)\n",
        "\n",
        "# conv layers\n",
        "x = Conv1D(32, 3, activation='relu')(x)\n",
        "x = Conv1D(32, 3, activation='relu')(x)\n",
        "x = Conv1D(32, 3, activation='relu')(x)\n",
        "#x = Conv1D(32, 3, activation='relu', padding='same')(x)\n",
        "#x = Conv1D(32, 3, activation='relu', padding='same')(x)\n",
        "#x = Conv1D(32, 3, activation='relu', padding='same')(x)\n",
        "x = MaxPool1D(3)(x)\n",
        "x = Flatten()(x)\n",
        "\n",
        "# dense layers\n",
        "#x = Dense(64, activation='relu')(x)\n",
        "\n",
        "# output layer\n",
        "output = Dense(1, activation='sigmoid')(x)  # (B, 1)\n",
        "\n",
        "model = Model(inputs=[pi_input, en_input], outputs=output, name='piemanese_tm_cnn')\n",
        "model.compile(loss='binary_crossentropy', optimizer='adam', metrics=[Precision(), Recall()])\n",
        "model.summary()"
      ],
      "id": "91eeb486"
    },
    {
      "cell_type": "markdown",
      "metadata": {
        "id": "7f2ecc6b"
      },
      "source": [
        "## Training"
      ],
      "id": "7f2ecc6b"
    },
    {
      "cell_type": "code",
      "source": [
        "from google.colab import auth\n",
        "auth.authenticate_user()\n",
        "\n",
        "!gcloud config set project piemanese-translator"
      ],
      "metadata": {
        "colab": {
          "base_uri": "https://localhost:8080/"
        },
        "outputId": "201c7c87-2583-453b-dca6-1249908f470a",
        "id": "4Ob1I3uSdKP2"
      },
      "execution_count": 14,
      "outputs": [
        {
          "output_type": "stream",
          "name": "stdout",
          "text": [
            "Updated property [core/project].\n"
          ]
        }
      ],
      "id": "4Ob1I3uSdKP2"
    },
    {
      "cell_type": "code",
      "execution_count": 7,
      "metadata": {
        "colab": {
          "base_uri": "https://localhost:8080/"
        },
        "id": "9ed4dcf0",
        "outputId": "2409d70f-aa37-4496-d896-c0f09dfb2099"
      },
      "outputs": [
        {
          "output_type": "stream",
          "name": "stdout",
          "text": [
            "Epoch 1/20\n",
            "11458/11458 - 434s - loss: 0.0337 - precision: 0.9243 - recall: 0.8358 - val_loss: 0.0124 - val_precision: 0.9520 - val_recall: 0.9504 - 434s/epoch - 38ms/step\n",
            "Epoch 2/20\n",
            "11458/11458 - 417s - loss: 0.0098 - precision: 0.9617 - recall: 0.9672 - val_loss: 0.0072 - val_precision: 0.9696 - val_recall: 0.9739 - 417s/epoch - 36ms/step\n",
            "Epoch 3/20\n",
            "11458/11458 - 411s - loss: 0.0066 - precision: 0.9733 - recall: 0.9804 - val_loss: 0.0070 - val_precision: 0.9579 - val_recall: 0.9938 - 411s/epoch - 36ms/step\n",
            "Epoch 4/20\n",
            "11458/11458 - 422s - loss: 0.0051 - precision: 0.9798 - recall: 0.9867 - val_loss: 0.0058 - val_precision: 0.9744 - val_recall: 0.9880 - 422s/epoch - 37ms/step\n",
            "Epoch 5/20\n",
            "11458/11458 - 397s - loss: 0.0044 - precision: 0.9832 - recall: 0.9894 - val_loss: 0.0055 - val_precision: 0.9689 - val_recall: 0.9963 - 397s/epoch - 35ms/step\n",
            "Epoch 6/20\n",
            "11458/11458 - 412s - loss: 0.0039 - precision: 0.9854 - recall: 0.9906 - val_loss: 0.0056 - val_precision: 0.9669 - val_recall: 0.9966 - 412s/epoch - 36ms/step\n",
            "Epoch 7/20\n",
            "11458/11458 - 393s - loss: 0.0035 - precision: 0.9867 - recall: 0.9919 - val_loss: 0.0045 - val_precision: 0.9783 - val_recall: 0.9890 - 393s/epoch - 34ms/step\n",
            "Epoch 8/20\n",
            "11458/11458 - 412s - loss: 0.0032 - precision: 0.9885 - recall: 0.9934 - val_loss: 0.0031 - val_precision: 0.9877 - val_recall: 0.9940 - 412s/epoch - 36ms/step\n",
            "Epoch 9/20\n",
            "11458/11458 - 408s - loss: 0.0029 - precision: 0.9897 - recall: 0.9941 - val_loss: 0.0036 - val_precision: 0.9872 - val_recall: 0.9946 - 408s/epoch - 36ms/step\n",
            "Epoch 10/20\n",
            "11458/11458 - 410s - loss: 0.0029 - precision: 0.9898 - recall: 0.9945 - val_loss: 0.0049 - val_precision: 0.9782 - val_recall: 0.9987 - 410s/epoch - 36ms/step\n",
            "Epoch 11/20\n",
            "11458/11458 - 411s - loss: 0.0027 - precision: 0.9904 - recall: 0.9948 - val_loss: 0.0035 - val_precision: 0.9846 - val_recall: 0.9963 - 411s/epoch - 36ms/step\n"
          ]
        },
        {
          "output_type": "execute_result",
          "data": {
            "text/plain": [
              "<keras.callbacks.History at 0x7f64c5cce6d0>"
            ]
          },
          "metadata": {},
          "execution_count": 7
        }
      ],
      "source": [
        "model.fit(\n",
        "    x=[X_pi_train, X_en_train],\n",
        "    y=y_train,\n",
        "    validation_data=([X_pi_valid, X_en_valid], y_valid),\n",
        "    batch_size=128,\n",
        "    epochs=20,\n",
        "    verbose=2,\n",
        "    callbacks=[ModelCheckpoint('tm_char_cnn/ckpt/{epoch:02d}-{val_loss:.4f}'), EarlyStopping(patience=3, restore_best_weights=True)])"
      ],
      "id": "9ed4dcf0"
    },
    {
      "cell_type": "code",
      "execution_count": 8,
      "metadata": {
        "colab": {
          "base_uri": "https://localhost:8080/"
        },
        "id": "cbbc358c",
        "outputId": "25b97022-6b04-4ad8-fbd5-f5a2c5f13c76"
      },
      "outputs": [
        {
          "output_type": "stream",
          "name": "stdout",
          "text": [
            "2456/2456 [==============================] - 25s 10ms/step - loss: 0.0033 - precision: 0.9889 - recall: 0.9932\n"
          ]
        },
        {
          "output_type": "execute_result",
          "data": {
            "text/plain": [
              "[0.0033481966238468885, 0.9889034032821655, 0.9931531548500061]"
            ]
          },
          "metadata": {},
          "execution_count": 8
        }
      ],
      "source": [
        "model.evaluate(x=[X_pi_test, X_en_test], y=y_test, batch_size=128)"
      ],
      "id": "cbbc358c"
    },
    {
      "cell_type": "code",
      "execution_count": 9,
      "metadata": {
        "id": "Yv6Jof6OtKXP"
      },
      "outputs": [],
      "source": [
        "model.save('tm_char_cnn')"
      ],
      "id": "Yv6Jof6OtKXP"
    },
    {
      "cell_type": "code",
      "execution_count": 10,
      "metadata": {
        "colab": {
          "base_uri": "https://localhost:8080/"
        },
        "id": "KTcNx7TYC-3i",
        "outputId": "9d745aac-3b66-4098-a1f9-1058fa501e03"
      },
      "outputs": [
        {
          "output_type": "stream",
          "name": "stdout",
          "text": [
            "  adding: tm_char_cnn/ (stored 0%)\n",
            "  adding: tm_char_cnn/saved_model.pb (deflated 90%)\n",
            "  adding: tm_char_cnn/ckpt/ (stored 0%)\n",
            "  adding: tm_char_cnn/ckpt/04-0.0058/ (stored 0%)\n",
            "  adding: tm_char_cnn/ckpt/04-0.0058/saved_model.pb (deflated 90%)\n",
            "  adding: tm_char_cnn/ckpt/04-0.0058/assets/ (stored 0%)\n",
            "  adding: tm_char_cnn/ckpt/04-0.0058/variables/ (stored 0%)\n",
            "  adding: tm_char_cnn/ckpt/04-0.0058/variables/variables.data-00000-of-00001 (deflated 19%)\n",
            "  adding: tm_char_cnn/ckpt/04-0.0058/variables/variables.index (deflated 66%)\n",
            "  adding: tm_char_cnn/ckpt/04-0.0058/keras_metadata.pb (deflated 94%)\n",
            "  adding: tm_char_cnn/ckpt/05-0.0055/ (stored 0%)\n",
            "  adding: tm_char_cnn/ckpt/05-0.0055/saved_model.pb (deflated 89%)\n",
            "  adding: tm_char_cnn/ckpt/05-0.0055/assets/ (stored 0%)\n",
            "  adding: tm_char_cnn/ckpt/05-0.0055/variables/ (stored 0%)\n",
            "  adding: tm_char_cnn/ckpt/05-0.0055/variables/variables.data-00000-of-00001 (deflated 19%)\n",
            "  adding: tm_char_cnn/ckpt/05-0.0055/variables/variables.index (deflated 66%)\n",
            "  adding: tm_char_cnn/ckpt/05-0.0055/keras_metadata.pb (deflated 94%)\n",
            "  adding: tm_char_cnn/ckpt/07-0.0045/ (stored 0%)\n",
            "  adding: tm_char_cnn/ckpt/07-0.0045/saved_model.pb (deflated 90%)\n",
            "  adding: tm_char_cnn/ckpt/07-0.0045/assets/ (stored 0%)\n",
            "  adding: tm_char_cnn/ckpt/07-0.0045/variables/ (stored 0%)\n",
            "  adding: tm_char_cnn/ckpt/07-0.0045/variables/variables.data-00000-of-00001 (deflated 19%)\n",
            "  adding: tm_char_cnn/ckpt/07-0.0045/variables/variables.index (deflated 66%)\n",
            "  adding: tm_char_cnn/ckpt/07-0.0045/keras_metadata.pb (deflated 94%)\n",
            "  adding: tm_char_cnn/ckpt/09-0.0036/ (stored 0%)\n",
            "  adding: tm_char_cnn/ckpt/09-0.0036/saved_model.pb (deflated 90%)\n",
            "  adding: tm_char_cnn/ckpt/09-0.0036/assets/ (stored 0%)\n",
            "  adding: tm_char_cnn/ckpt/09-0.0036/variables/ (stored 0%)\n",
            "  adding: tm_char_cnn/ckpt/09-0.0036/variables/variables.data-00000-of-00001 (deflated 19%)\n",
            "  adding: tm_char_cnn/ckpt/09-0.0036/variables/variables.index (deflated 66%)\n",
            "  adding: tm_char_cnn/ckpt/09-0.0036/keras_metadata.pb (deflated 94%)\n",
            "  adding: tm_char_cnn/ckpt/02-0.0072/ (stored 0%)\n",
            "  adding: tm_char_cnn/ckpt/02-0.0072/saved_model.pb (deflated 90%)\n",
            "  adding: tm_char_cnn/ckpt/02-0.0072/assets/ (stored 0%)\n",
            "  adding: tm_char_cnn/ckpt/02-0.0072/variables/ (stored 0%)\n",
            "  adding: tm_char_cnn/ckpt/02-0.0072/variables/variables.data-00000-of-00001 (deflated 19%)\n",
            "  adding: tm_char_cnn/ckpt/02-0.0072/variables/variables.index (deflated 66%)\n",
            "  adding: tm_char_cnn/ckpt/02-0.0072/keras_metadata.pb (deflated 94%)\n",
            "  adding: tm_char_cnn/ckpt/08-0.0031/ (stored 0%)\n",
            "  adding: tm_char_cnn/ckpt/08-0.0031/saved_model.pb (deflated 90%)\n",
            "  adding: tm_char_cnn/ckpt/08-0.0031/assets/ (stored 0%)\n",
            "  adding: tm_char_cnn/ckpt/08-0.0031/variables/ (stored 0%)\n",
            "  adding: tm_char_cnn/ckpt/08-0.0031/variables/variables.data-00000-of-00001 (deflated 19%)\n",
            "  adding: tm_char_cnn/ckpt/08-0.0031/variables/variables.index (deflated 66%)\n",
            "  adding: tm_char_cnn/ckpt/08-0.0031/keras_metadata.pb (deflated 94%)\n",
            "  adding: tm_char_cnn/ckpt/11-0.0035/ (stored 0%)\n",
            "  adding: tm_char_cnn/ckpt/11-0.0035/saved_model.pb (deflated 90%)\n",
            "  adding: tm_char_cnn/ckpt/11-0.0035/assets/ (stored 0%)\n",
            "  adding: tm_char_cnn/ckpt/11-0.0035/variables/ (stored 0%)\n",
            "  adding: tm_char_cnn/ckpt/11-0.0035/variables/variables.data-00000-of-00001 (deflated 19%)\n",
            "  adding: tm_char_cnn/ckpt/11-0.0035/variables/variables.index (deflated 66%)\n",
            "  adding: tm_char_cnn/ckpt/11-0.0035/keras_metadata.pb (deflated 94%)\n",
            "  adding: tm_char_cnn/ckpt/06-0.0056/ (stored 0%)\n",
            "  adding: tm_char_cnn/ckpt/06-0.0056/saved_model.pb (deflated 90%)\n",
            "  adding: tm_char_cnn/ckpt/06-0.0056/assets/ (stored 0%)\n",
            "  adding: tm_char_cnn/ckpt/06-0.0056/variables/ (stored 0%)\n",
            "  adding: tm_char_cnn/ckpt/06-0.0056/variables/variables.data-00000-of-00001 (deflated 19%)\n",
            "  adding: tm_char_cnn/ckpt/06-0.0056/variables/variables.index (deflated 66%)\n",
            "  adding: tm_char_cnn/ckpt/06-0.0056/keras_metadata.pb (deflated 94%)\n",
            "  adding: tm_char_cnn/ckpt/10-0.0049/ (stored 0%)\n",
            "  adding: tm_char_cnn/ckpt/10-0.0049/saved_model.pb (deflated 89%)\n",
            "  adding: tm_char_cnn/ckpt/10-0.0049/assets/ (stored 0%)\n",
            "  adding: tm_char_cnn/ckpt/10-0.0049/variables/ (stored 0%)\n",
            "  adding: tm_char_cnn/ckpt/10-0.0049/variables/variables.data-00000-of-00001 (deflated 19%)\n",
            "  adding: tm_char_cnn/ckpt/10-0.0049/variables/variables.index (deflated 66%)\n",
            "  adding: tm_char_cnn/ckpt/10-0.0049/keras_metadata.pb (deflated 94%)\n",
            "  adding: tm_char_cnn/ckpt/03-0.0070/ (stored 0%)\n",
            "  adding: tm_char_cnn/ckpt/03-0.0070/saved_model.pb (deflated 89%)\n",
            "  adding: tm_char_cnn/ckpt/03-0.0070/assets/ (stored 0%)\n",
            "  adding: tm_char_cnn/ckpt/03-0.0070/variables/ (stored 0%)\n",
            "  adding: tm_char_cnn/ckpt/03-0.0070/variables/variables.data-00000-of-00001 (deflated 19%)\n",
            "  adding: tm_char_cnn/ckpt/03-0.0070/variables/variables.index (deflated 66%)\n",
            "  adding: tm_char_cnn/ckpt/03-0.0070/keras_metadata.pb (deflated 94%)\n",
            "  adding: tm_char_cnn/ckpt/01-0.0124/ (stored 0%)\n",
            "  adding: tm_char_cnn/ckpt/01-0.0124/saved_model.pb (deflated 90%)\n",
            "  adding: tm_char_cnn/ckpt/01-0.0124/assets/ (stored 0%)\n",
            "  adding: tm_char_cnn/ckpt/01-0.0124/variables/ (stored 0%)\n",
            "  adding: tm_char_cnn/ckpt/01-0.0124/variables/variables.data-00000-of-00001 (deflated 20%)\n",
            "  adding: tm_char_cnn/ckpt/01-0.0124/variables/variables.index (deflated 66%)\n",
            "  adding: tm_char_cnn/ckpt/01-0.0124/keras_metadata.pb (deflated 94%)\n",
            "  adding: tm_char_cnn/assets/ (stored 0%)\n",
            "  adding: tm_char_cnn/variables/ (stored 0%)\n",
            "  adding: tm_char_cnn/variables/variables.data-00000-of-00001 (deflated 19%)\n",
            "  adding: tm_char_cnn/variables/variables.index (deflated 66%)\n",
            "  adding: tm_char_cnn/keras_metadata.pb (deflated 94%)\n"
          ]
        }
      ],
      "source": [
        "# zip to archive\n",
        "!zip -r tm_char_cnn.zip tm_char_cnn"
      ],
      "id": "KTcNx7TYC-3i"
    },
    {
      "cell_type": "code",
      "source": [
        "# download locally\n",
        "from google.colab import files\n",
        "files.download('tm_char_cnn.zip') "
      ],
      "metadata": {
        "colab": {
          "base_uri": "https://localhost:8080/",
          "height": 17
        },
        "id": "6ZUUmCli7okV",
        "outputId": "b0eb2a9a-1674-4821-da4a-ef50831cab19"
      },
      "id": "6ZUUmCli7okV",
      "execution_count": 11,
      "outputs": [
        {
          "output_type": "display_data",
          "data": {
            "text/plain": [
              "<IPython.core.display.Javascript object>"
            ],
            "application/javascript": [
              "\n",
              "    async function download(id, filename, size) {\n",
              "      if (!google.colab.kernel.accessAllowed) {\n",
              "        return;\n",
              "      }\n",
              "      const div = document.createElement('div');\n",
              "      const label = document.createElement('label');\n",
              "      label.textContent = `Downloading \"${filename}\": `;\n",
              "      div.appendChild(label);\n",
              "      const progress = document.createElement('progress');\n",
              "      progress.max = size;\n",
              "      div.appendChild(progress);\n",
              "      document.body.appendChild(div);\n",
              "\n",
              "      const buffers = [];\n",
              "      let downloaded = 0;\n",
              "\n",
              "      const channel = await google.colab.kernel.comms.open(id);\n",
              "      // Send a message to notify the kernel that we're ready.\n",
              "      channel.send({})\n",
              "\n",
              "      for await (const message of channel.messages) {\n",
              "        // Send a message to notify the kernel that we're ready.\n",
              "        channel.send({})\n",
              "        if (message.buffers) {\n",
              "          for (const buffer of message.buffers) {\n",
              "            buffers.push(buffer);\n",
              "            downloaded += buffer.byteLength;\n",
              "            progress.value = downloaded;\n",
              "          }\n",
              "        }\n",
              "      }\n",
              "      const blob = new Blob(buffers, {type: 'application/binary'});\n",
              "      const a = document.createElement('a');\n",
              "      a.href = window.URL.createObjectURL(blob);\n",
              "      a.download = filename;\n",
              "      div.appendChild(a);\n",
              "      a.click();\n",
              "      div.remove();\n",
              "    }\n",
              "  "
            ]
          },
          "metadata": {}
        },
        {
          "output_type": "display_data",
          "data": {
            "text/plain": [
              "<IPython.core.display.Javascript object>"
            ],
            "application/javascript": [
              "download(\"download_f873bf17-89bb-432e-bf1a-7d9c6277a7c4\", \"tm_char_cnn.zip\", 2288229)"
            ]
          },
          "metadata": {}
        }
      ]
    },
    {
      "cell_type": "code",
      "source": [
        "# copy to bucket\n",
        "!gsutil -m cp -r tm_char_cnn gs://piemanese-translator-data/tm/"
      ],
      "metadata": {
        "colab": {
          "base_uri": "https://localhost:8080/"
        },
        "id": "erel8SdW7opH",
        "outputId": "667ef9c2-3a8b-4ecc-f9dc-9b8e9e99a5a8"
      },
      "id": "erel8SdW7opH",
      "execution_count": 15,
      "outputs": [
        {
          "output_type": "stream",
          "name": "stdout",
          "text": [
            "Copying file://tm_char_cnn/keras_metadata.pb [Content-Type=application/octet-stream]...\n",
            "/ [0/48 files][    0.0 B/  7.1 MiB]   0% Done                                   \rCopying file://tm_char_cnn/saved_model.pb [Content-Type=application/octet-stream]...\n",
            "/ [0/48 files][    0.0 B/  7.1 MiB]   0% Done                                   \rCopying file://tm_char_cnn/ckpt/05-0.0055/saved_model.pb [Content-Type=application/octet-stream]...\n",
            "/ [0/48 files][    0.0 B/  7.1 MiB]   0% Done                                   \rCopying file://tm_char_cnn/ckpt/04-0.0058/variables/variables.index [Content-Type=application/octet-stream]...\n",
            "Copying file://tm_char_cnn/ckpt/04-0.0058/saved_model.pb [Content-Type=application/octet-stream]...\n",
            "/ [0/48 files][    0.0 B/  7.1 MiB]   0% Done                                   \r/ [0/48 files][    0.0 B/  7.1 MiB]   0% Done                                   \rCopying file://tm_char_cnn/ckpt/04-0.0058/keras_metadata.pb [Content-Type=application/octet-stream]...\n",
            "/ [0/48 files][    0.0 B/  7.1 MiB]   0% Done                                   \rCopying file://tm_char_cnn/ckpt/04-0.0058/variables/variables.data-00000-of-00001 [Content-Type=application/octet-stream]...\n",
            "/ [0/48 files][    0.0 B/  7.1 MiB]   0% Done                                   \rCopying file://tm_char_cnn/ckpt/05-0.0055/variables/variables.data-00000-of-00001 [Content-Type=application/octet-stream]...\n",
            "/ [0/48 files][    0.0 B/  7.1 MiB]   0% Done                                   \rCopying file://tm_char_cnn/ckpt/05-0.0055/variables/variables.index [Content-Type=application/octet-stream]...\n",
            "Copying file://tm_char_cnn/ckpt/05-0.0055/keras_metadata.pb [Content-Type=application/octet-stream]...\n",
            "Copying file://tm_char_cnn/ckpt/07-0.0045/saved_model.pb [Content-Type=application/octet-stream]...\n",
            "Copying file://tm_char_cnn/ckpt/07-0.0045/keras_metadata.pb [Content-Type=application/octet-stream]...\n",
            "Copying file://tm_char_cnn/ckpt/07-0.0045/variables/variables.data-00000-of-00001 [Content-Type=application/octet-stream]...\n",
            "Copying file://tm_char_cnn/ckpt/07-0.0045/variables/variables.index [Content-Type=application/octet-stream]...\n",
            "Copying file://tm_char_cnn/ckpt/09-0.0036/saved_model.pb [Content-Type=application/octet-stream]...\n",
            "Copying file://tm_char_cnn/ckpt/09-0.0036/keras_metadata.pb [Content-Type=application/octet-stream]...\n",
            "Copying file://tm_char_cnn/ckpt/09-0.0036/variables/variables.data-00000-of-00001 [Content-Type=application/octet-stream]...\n",
            "Copying file://tm_char_cnn/ckpt/09-0.0036/variables/variables.index [Content-Type=application/octet-stream]...\n",
            "Copying file://tm_char_cnn/ckpt/02-0.0072/saved_model.pb [Content-Type=application/octet-stream]...\n",
            "Copying file://tm_char_cnn/ckpt/02-0.0072/keras_metadata.pb [Content-Type=application/octet-stream]...\n",
            "Copying file://tm_char_cnn/ckpt/02-0.0072/variables/variables.data-00000-of-00001 [Content-Type=application/octet-stream]...\n",
            "Copying file://tm_char_cnn/ckpt/02-0.0072/variables/variables.index [Content-Type=application/octet-stream]...\n",
            "Copying file://tm_char_cnn/ckpt/08-0.0031/saved_model.pb [Content-Type=application/octet-stream]...\n",
            "Copying file://tm_char_cnn/ckpt/08-0.0031/keras_metadata.pb [Content-Type=application/octet-stream]...\n",
            "Copying file://tm_char_cnn/ckpt/08-0.0031/variables/variables.data-00000-of-00001 [Content-Type=application/octet-stream]...\n",
            "Copying file://tm_char_cnn/ckpt/08-0.0031/variables/variables.index [Content-Type=application/octet-stream]...\n",
            "Copying file://tm_char_cnn/ckpt/11-0.0035/saved_model.pb [Content-Type=application/octet-stream]...\n",
            "Copying file://tm_char_cnn/ckpt/11-0.0035/keras_metadata.pb [Content-Type=application/octet-stream]...\n",
            "Copying file://tm_char_cnn/ckpt/11-0.0035/variables/variables.data-00000-of-00001 [Content-Type=application/octet-stream]...\n",
            "Copying file://tm_char_cnn/ckpt/11-0.0035/variables/variables.index [Content-Type=application/octet-stream]...\n",
            "Copying file://tm_char_cnn/ckpt/06-0.0056/saved_model.pb [Content-Type=application/octet-stream]...\n",
            "Copying file://tm_char_cnn/ckpt/06-0.0056/keras_metadata.pb [Content-Type=application/octet-stream]...\n",
            "Copying file://tm_char_cnn/ckpt/06-0.0056/variables/variables.data-00000-of-00001 [Content-Type=application/octet-stream]...\n",
            "Copying file://tm_char_cnn/ckpt/06-0.0056/variables/variables.index [Content-Type=application/octet-stream]...\n",
            "Copying file://tm_char_cnn/ckpt/10-0.0049/saved_model.pb [Content-Type=application/octet-stream]...\n",
            "Copying file://tm_char_cnn/ckpt/10-0.0049/variables/variables.data-00000-of-00001 [Content-Type=application/octet-stream]...\n",
            "Copying file://tm_char_cnn/ckpt/10-0.0049/keras_metadata.pb [Content-Type=application/octet-stream]...\n",
            "Copying file://tm_char_cnn/ckpt/10-0.0049/variables/variables.index [Content-Type=application/octet-stream]...\n",
            "Copying file://tm_char_cnn/ckpt/03-0.0070/saved_model.pb [Content-Type=application/octet-stream]...\n",
            "Copying file://tm_char_cnn/ckpt/03-0.0070/keras_metadata.pb [Content-Type=application/octet-stream]...\n",
            "Copying file://tm_char_cnn/ckpt/03-0.0070/variables/variables.data-00000-of-00001 [Content-Type=application/octet-stream]...\n",
            "Copying file://tm_char_cnn/ckpt/03-0.0070/variables/variables.index [Content-Type=application/octet-stream]...\n",
            "Copying file://tm_char_cnn/ckpt/01-0.0124/saved_model.pb [Content-Type=application/octet-stream]...\n",
            "Copying file://tm_char_cnn/ckpt/01-0.0124/keras_metadata.pb [Content-Type=application/octet-stream]...\n",
            "Copying file://tm_char_cnn/ckpt/01-0.0124/variables/variables.data-00000-of-00001 [Content-Type=application/octet-stream]...\n",
            "Copying file://tm_char_cnn/ckpt/01-0.0124/variables/variables.index [Content-Type=application/octet-stream]...\n",
            "Copying file://tm_char_cnn/variables/variables.data-00000-of-00001 [Content-Type=application/octet-stream]...\n",
            "Copying file://tm_char_cnn/variables/variables.index [Content-Type=application/octet-stream]...\n",
            "| [48/48 files][  7.1 MiB/  7.1 MiB] 100% Done                                  \n",
            "Operation completed over 48 objects/7.1 MiB.                                     \n"
          ]
        }
      ]
    }
  ],
  "metadata": {
    "accelerator": "TPU",
    "colab": {
      "collapsed_sections": [],
      "name": "piemanese_tm_character_cnn.ipynb",
      "provenance": [],
      "include_colab_link": true
    },
    "gpuClass": "standard",
    "kernelspec": {
      "display_name": "Python 3",
      "language": "python",
      "name": "python3"
    },
    "language_info": {
      "codemirror_mode": {
        "name": "ipython",
        "version": 3
      },
      "file_extension": ".py",
      "mimetype": "text/x-python",
      "name": "python",
      "nbconvert_exporter": "python",
      "pygments_lexer": "ipython3",
      "version": "3.8.5"
    }
  },
  "nbformat": 4,
  "nbformat_minor": 5
}